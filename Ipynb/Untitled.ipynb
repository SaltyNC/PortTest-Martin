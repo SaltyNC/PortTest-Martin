{
 "cells": [
  {
   "cell_type": "markdown",
   "id": "introductory-preview",
   "metadata": {},
   "source": [
    "1. Write a Python program to print the following string in a specific format (see the output). Go to the editor\n",
    "Sample String : \"Twinkle, twinkle, little star, How I wonder what you are! Up above the world so high, Like a diamond in the sky. Twinkle, twinkle, little star, How I wonder what you are\" Output :\n",
    "\n",
    "Twinkle, twinkle, little star,\n",
    "\tHow I wonder what you are! \n",
    "\t\tUp above the world so high,   \t\t\n",
    "\t\tLike a diamond in the sky. \n",
    "Twinkle, twinkle, little star, \n",
    "\tHow I wonder what you are"
   ]
  },
  {
   "cell_type": "code",
   "execution_count": 1,
   "id": "brilliant-percentage",
   "metadata": {},
   "outputs": [],
   "source": [
    "sample_string = 'Twinkle, twinkle, little star, How I wonder what you are! Up above the world so high, Like a diamond in the sky. Twinkle, twinkle, little star, How I wonder what you are'"
   ]
  },
  {
   "cell_type": "code",
   "execution_count": 35,
   "id": "employed-hostel",
   "metadata": {},
   "outputs": [],
   "source": [
    "def problem1(text):\n",
    "    print(sample_string[0:30])\n",
    "    print(f'\\t{sample_string[30:58]}')\n",
    "    print(f'\\t\\t{sample_string[58:86]}')\n",
    "    print(f'\\t\\t{sample_string[86:113]}')\n",
    "    print(sample_string[0:30])\n",
    "    print(f'\\t{sample_string[30:58]}')"
   ]
  },
  {
   "cell_type": "code",
   "execution_count": 36,
   "id": "aggregate-subsection",
   "metadata": {},
   "outputs": [
    {
     "name": "stdout",
     "output_type": "stream",
     "text": [
      "Twinkle, twinkle, little star,\n",
      "\t How I wonder what you are! \n",
      "\t\tUp above the world so high, \n",
      "\t\tLike a diamond in the sky. \n",
      "Twinkle, twinkle, little star,\n",
      "\t How I wonder what you are! \n"
     ]
    }
   ],
   "source": [
    "problem1(sample_string)"
   ]
  },
  {
   "cell_type": "code",
   "execution_count": 34,
   "id": "answering-flavor",
   "metadata": {},
   "outputs": [
    {
     "name": "stdout",
     "output_type": "stream",
     "text": [
      "\t\tLike a diamond in the sky. \n"
     ]
    }
   ],
   "source": [
    "print(f'\\t\\t{sample_string[86:113]}')"
   ]
  },
  {
   "cell_type": "code",
   "execution_count": 44,
   "id": "sustained-freeware",
   "metadata": {},
   "outputs": [
    {
     "name": "stdout",
     "output_type": "stream",
     "text": [
      "Twinkle, twinkle, little star,\n",
      "\t How I wonder what you are!\n",
      "\t\t Up above the world so high,\n",
      "\t\t Like a diamond in the sky.\n",
      " Twinkle, twinkle, little star,\n",
      "\t How I wonder what you are\n"
     ]
    }
   ],
   "source": [
    "# Answer 1\n",
    "print('Twinkle, twinkle, little star,\\n\\t How I wonder what you are!\\n\\t\\t Up above the world so high,\\n\\t\\t Like a diamond in the sky.\\n Twinkle, twinkle, little star,\\n\\t How I wonder what you are')"
   ]
  },
  {
   "cell_type": "code",
   "execution_count": 46,
   "id": "fatty-azerbaijan",
   "metadata": {},
   "outputs": [
    {
     "name": "stdout",
     "output_type": "stream",
     "text": [
      "Python Version\n",
      "3.8.6 (tags/v3.8.6:db45529, Sep 23 2020, 15:52:53) [MSC v.1927 64 bit (AMD64)]\n",
      "Version Info\n",
      "sys.version_info(major=3, minor=8, micro=6, releaselevel='final', serial=0)\n"
     ]
    }
   ],
   "source": [
    "import sys\n",
    "print('Python Version')\n",
    "print(sys.version)\n",
    "print('Version Info')\n",
    "print(sys.version_info)"
   ]
  },
  {
   "cell_type": "code",
   "execution_count": 54,
   "id": "described-extra",
   "metadata": {},
   "outputs": [],
   "source": [
    "def area_circle(radius):\n",
    "    import math\n",
    "    area = math.pi*radius**2\n",
    "    print(f'The area of the circle is {area:.2f}')"
   ]
  },
  {
   "cell_type": "code",
   "execution_count": 55,
   "id": "growing-newton",
   "metadata": {},
   "outputs": [
    {
     "name": "stdout",
     "output_type": "stream",
     "text": [
      "3.141592653589793\n"
     ]
    }
   ],
   "source": [
    "import math\n",
    "print(math.pi)"
   ]
  },
  {
   "cell_type": "code",
   "execution_count": 56,
   "id": "celtic-europe",
   "metadata": {},
   "outputs": [
    {
     "name": "stdout",
     "output_type": "stream",
     "text": [
      "The area of the circle is 3.80\n"
     ]
    }
   ],
   "source": [
    "area_circle(1.1)"
   ]
  },
  {
   "cell_type": "code",
   "execution_count": 58,
   "id": "extreme-hawaiian",
   "metadata": {},
   "outputs": [
    {
     "name": "stdin",
     "output_type": "stream",
     "text": [
      "Enter the radius of the circle:  1.1\n"
     ]
    },
    {
     "name": "stdout",
     "output_type": "stream",
     "text": [
      "The area of the circle is 3.80\n"
     ]
    }
   ],
   "source": [
    "radius_2 = float(input('Enter the radius of the circle: '))\n",
    "area = math.pi*radius_2**2\n",
    "print(f'The area of the circle is {area:.2f}')"
   ]
  },
  {
   "cell_type": "code",
   "execution_count": null,
   "id": "ahead-restoration",
   "metadata": {},
   "outputs": [],
   "source": []
  }
 ],
 "metadata": {
  "kernelspec": {
   "display_name": "Python 3",
   "language": "python",
   "name": "python3"
  },
  "language_info": {
   "codemirror_mode": {
    "name": "ipython",
    "version": 3
   },
   "file_extension": ".py",
   "mimetype": "text/x-python",
   "name": "python",
   "nbconvert_exporter": "python",
   "pygments_lexer": "ipython3",
   "version": "3.8.6"
  }
 },
 "nbformat": 4,
 "nbformat_minor": 5
}
