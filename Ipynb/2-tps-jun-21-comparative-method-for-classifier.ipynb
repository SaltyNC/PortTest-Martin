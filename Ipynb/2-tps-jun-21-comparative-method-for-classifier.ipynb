{
 "cells": [
  {
   "cell_type": "markdown",
   "id": "liable-history",
   "metadata": {
    "papermill": {
     "duration": 0.021087,
     "end_time": "2021-06-16T13:05:54.614996",
     "exception": false,
     "start_time": "2021-06-16T13:05:54.593909",
     "status": "completed"
    },
    "tags": []
   },
   "source": [
    "<div>\n",
    "    <h1 align=\"center\">Tabular Playground Series - Jun 2021</h1>\n",
    "    <h2 align=\"center\">Ensembling & Comparative Method for Classifier</h2>\n",
    "    <h4 align=\"center\">By: Somayyeh Gholami & Mehran Kazeminia</h4>\n",
    "</div>"
   ]
  },
  {
   "cell_type": "markdown",
   "id": "moderate-poker",
   "metadata": {
    "papermill": {
     "duration": 0.020168,
     "end_time": "2021-06-16T13:05:54.655495",
     "exception": false,
     "start_time": "2021-06-16T13:05:54.635327",
     "status": "completed"
    },
    "tags": []
   },
   "source": [
    "<div class=\"alert alert-success\">  \n",
    "</div>"
   ]
  },
  {
   "cell_type": "markdown",
   "id": "flexible-detection",
   "metadata": {
    "papermill": {
     "duration": 0.020887,
     "end_time": "2021-06-16T13:05:54.696791",
     "exception": false,
     "start_time": "2021-06-16T13:05:54.675904",
     "status": "completed"
    },
    "tags": []
   },
   "source": [
    "## Description:\n",
    "\n",
    "#### In Kaggle challenges as well as real projects, we usually calculate the average (Weighted average) of the results of several different methods  to get a better score. This method is called \"Ensembling\" and is very common.\n",
    "\n",
    "#### **What does it mean if the new results get a better score? Did all the hundreds of thousands of rows get better results? Certainly not.**\n",
    "\n",
    "#### The fact is that only the results of some rows are better and the results of others are worse. However, we see that the overall result has improved.\n",
    "\n",
    "#### Here we want to identify rows whose new results are probably not better. Of course, after identifying these rows, we return the results to their pre-\"Ensembling\" state and we will see that by doing so, our score will be even better.\n",
    "\n",
    "#### We call this method \"Comparative Method\" and it is our initiative. The \"Comparative Method\" can be used for both regression and classifier. But of course there are differences in the way it is done on different issues.\n",
    "\n",
    "#### For more information, refer to the following address:\n",
    "\n",
    "#### https://www.kaggle.com/c/tabular-playground-series-jun-2021/discussion/246031\n"
   ]
  },
  {
   "cell_type": "markdown",
   "id": "macro-brave",
   "metadata": {
    "papermill": {
     "duration": 0.020236,
     "end_time": "2021-06-16T13:05:54.737359",
     "exception": false,
     "start_time": "2021-06-16T13:05:54.717123",
     "status": "completed"
    },
    "tags": []
   },
   "source": [
    "<div class=\"alert alert-success\">  \n",
    "</div>"
   ]
  },
  {
   "cell_type": "markdown",
   "id": "burning-bottle",
   "metadata": {
    "papermill": {
     "duration": 0.01998,
     "end_time": "2021-06-16T13:05:54.777972",
     "exception": false,
     "start_time": "2021-06-16T13:05:54.757992",
     "status": "completed"
    },
    "tags": []
   },
   "source": [
    "## Import & Data Set"
   ]
  },
  {
   "cell_type": "code",
   "execution_count": 1,
   "id": "material-queue",
   "metadata": {
    "execution": {
     "iopub.execute_input": "2021-06-16T13:05:54.823249Z",
     "iopub.status.busy": "2021-06-16T13:05:54.822090Z",
     "iopub.status.idle": "2021-06-16T13:05:55.671382Z",
     "shell.execute_reply": "2021-06-16T13:05:55.670680Z",
     "shell.execute_reply.started": "2021-06-16T13:04:29.506146Z"
    },
    "papermill": {
     "duration": 0.873328,
     "end_time": "2021-06-16T13:05:55.671547",
     "exception": false,
     "start_time": "2021-06-16T13:05:54.798219",
     "status": "completed"
    },
    "tags": []
   },
   "outputs": [],
   "source": [
    "import numpy as np \n",
    "import pandas as pd\n",
    "import seaborn as sns\n",
    "\n",
    "import matplotlib.pyplot as plt\n",
    "%matplotlib inline"
   ]
  },
  {
   "cell_type": "code",
   "execution_count": 2,
   "id": "involved-determination",
   "metadata": {
    "_kg_hide-output": true,
    "execution": {
     "iopub.execute_input": "2021-06-16T13:05:55.716379Z",
     "iopub.status.busy": "2021-06-16T13:05:55.715405Z",
     "iopub.status.idle": "2021-06-16T13:05:55.747149Z",
     "shell.execute_reply": "2021-06-16T13:05:55.747750Z",
     "shell.execute_reply.started": "2021-06-16T13:04:30.337779Z"
    },
    "papermill": {
     "duration": 0.055728,
     "end_time": "2021-06-16T13:05:55.747921",
     "exception": false,
     "start_time": "2021-06-16T13:05:55.692193",
     "status": "completed"
    },
    "tags": []
   },
   "outputs": [
    {
     "name": "stdout",
     "output_type": "stream",
     "text": [
      "/kaggle/input/1-tps-jun-21-histgradient-catboost-nn/submission2.csv\n",
      "/kaggle/input/1-tps-jun-21-histgradient-catboost-nn/submission4.csv\n",
      "/kaggle/input/1-tps-jun-21-histgradient-catboost-nn/submission3.csv\n",
      "/kaggle/input/1-tps-jun-21-histgradient-catboost-nn/__results__.html\n",
      "/kaggle/input/1-tps-jun-21-histgradient-catboost-nn/submission6.csv\n",
      "/kaggle/input/1-tps-jun-21-histgradient-catboost-nn/submission1.csv\n",
      "/kaggle/input/1-tps-jun-21-histgradient-catboost-nn/submission5.csv\n",
      "/kaggle/input/1-tps-jun-21-histgradient-catboost-nn/submission.csv\n",
      "/kaggle/input/1-tps-jun-21-histgradient-catboost-nn/__resultx__.html\n",
      "/kaggle/input/1-tps-jun-21-histgradient-catboost-nn/__notebook__.ipynb\n",
      "/kaggle/input/1-tps-jun-21-histgradient-catboost-nn/__output__.json\n",
      "/kaggle/input/1-tps-jun-21-histgradient-catboost-nn/val_X.csv\n",
      "/kaggle/input/1-tps-jun-21-histgradient-catboost-nn/val_y.csv\n",
      "/kaggle/input/1-tps-jun-21-histgradient-catboost-nn/custom.css\n",
      "/kaggle/input/1-tps-jun-21-histgradient-catboost-nn/__results___files/__results___12_1.png\n",
      "/kaggle/input/1-tps-jun-21-histgradient-catboost-nn/__results___files/__results___29_0.png\n",
      "/kaggle/input/1-tps-jun-21-histgradient-catboost-nn/__results___files/__results___13_1.png\n",
      "/kaggle/input/1-tps-jun-21-histgradient-catboost-nn/__results___files/__results___28_0.png\n",
      "/kaggle/input/1-tps-jun-21-histgradient-catboost-nn/catboost_info/learn_error.tsv\n",
      "/kaggle/input/1-tps-jun-21-histgradient-catboost-nn/catboost_info/catboost_training.json\n",
      "/kaggle/input/1-tps-jun-21-histgradient-catboost-nn/catboost_info/time_left.tsv\n",
      "/kaggle/input/1-tps-jun-21-histgradient-catboost-nn/catboost_info/learn/events.out.tfevents\n",
      "/kaggle/input/tabular-playground-series-jun-2021/sample_submission.csv\n",
      "/kaggle/input/tabular-playground-series-jun-2021/train.csv\n",
      "/kaggle/input/tabular-playground-series-jun-2021/test.csv\n"
     ]
    }
   ],
   "source": [
    "import os\n",
    "for dirname, _, filenames in os.walk('/kaggle/input'):\n",
    "    for filename in filenames:\n",
    "        print(os.path.join(dirname, filename))"
   ]
  },
  {
   "cell_type": "code",
   "execution_count": 3,
   "id": "interested-manitoba",
   "metadata": {
    "execution": {
     "iopub.execute_input": "2021-06-16T13:05:55.793887Z",
     "iopub.status.busy": "2021-06-16T13:05:55.792897Z",
     "iopub.status.idle": "2021-06-16T13:05:57.977364Z",
     "shell.execute_reply": "2021-06-16T13:05:57.976775Z",
     "shell.execute_reply.started": "2021-06-16T13:04:30.368324Z"
    },
    "papermill": {
     "duration": 2.208021,
     "end_time": "2021-06-16T13:05:57.977499",
     "exception": false,
     "start_time": "2021-06-16T13:05:55.769478",
     "status": "completed"
    },
    "tags": []
   },
   "outputs": [],
   "source": [
    "df1 = pd.read_csv('../input/tabular-playground-series-jun-2021/train.csv')\n",
    "df2 = pd.read_csv('../input/tabular-playground-series-jun-2021/test.csv')\n",
    "sam = pd.read_csv('../input/tabular-playground-series-jun-2021/sample_submission.csv')"
   ]
  },
  {
   "cell_type": "code",
   "execution_count": 4,
   "id": "plastic-majority",
   "metadata": {
    "execution": {
     "iopub.execute_input": "2021-06-16T13:05:58.024916Z",
     "iopub.status.busy": "2021-06-16T13:05:58.024221Z",
     "iopub.status.idle": "2021-06-16T13:05:58.370987Z",
     "shell.execute_reply": "2021-06-16T13:05:58.370255Z",
     "shell.execute_reply.started": "2021-06-16T13:04:32.210537Z"
    },
    "papermill": {
     "duration": 0.372941,
     "end_time": "2021-06-16T13:05:58.371203",
     "exception": false,
     "start_time": "2021-06-16T13:05:57.998262",
     "status": "completed"
    },
    "tags": []
   },
   "outputs": [],
   "source": [
    "sub1 = pd.read_csv('../input/1-tps-jun-21-histgradient-catboost-nn/submission1.csv')\n",
    "# Public Score: 1.75770\n",
    "# HistGradientBoostingClassifier\n",
    "# display(sub1)"
   ]
  },
  {
   "cell_type": "code",
   "execution_count": 5,
   "id": "activated-enough",
   "metadata": {
    "execution": {
     "iopub.execute_input": "2021-06-16T13:05:58.417956Z",
     "iopub.status.busy": "2021-06-16T13:05:58.417254Z",
     "iopub.status.idle": "2021-06-16T13:05:58.754239Z",
     "shell.execute_reply": "2021-06-16T13:05:58.753694Z",
     "shell.execute_reply.started": "2021-06-16T13:04:32.523254Z"
    },
    "papermill": {
     "duration": 0.362166,
     "end_time": "2021-06-16T13:05:58.754385",
     "exception": false,
     "start_time": "2021-06-16T13:05:58.392219",
     "status": "completed"
    },
    "tags": []
   },
   "outputs": [],
   "source": [
    "sub2 = pd.read_csv('../input/1-tps-jun-21-histgradient-catboost-nn/submission2.csv')\n",
    "# Public Score: 1.75011\n",
    "# CatBoostClassifier\n",
    "# display(sub2)"
   ]
  },
  {
   "cell_type": "code",
   "execution_count": 6,
   "id": "pregnant-ordering",
   "metadata": {
    "execution": {
     "iopub.execute_input": "2021-06-16T13:05:58.800001Z",
     "iopub.status.busy": "2021-06-16T13:05:58.799359Z",
     "iopub.status.idle": "2021-06-16T13:05:59.171682Z",
     "shell.execute_reply": "2021-06-16T13:05:59.170899Z",
     "shell.execute_reply.started": "2021-06-16T13:04:32.828303Z"
    },
    "papermill": {
     "duration": 0.396727,
     "end_time": "2021-06-16T13:05:59.171833",
     "exception": false,
     "start_time": "2021-06-16T13:05:58.775106",
     "status": "completed"
    },
    "tags": []
   },
   "outputs": [],
   "source": [
    "sub3 = pd.read_csv('../input/1-tps-jun-21-histgradient-catboost-nn/submission3.csv')\n",
    "# Public Score: 1.74587\n",
    "# Neural Networks\n",
    "# display(sub3)"
   ]
  },
  {
   "cell_type": "markdown",
   "id": "instant-fleet",
   "metadata": {
    "papermill": {
     "duration": 0.021002,
     "end_time": "2021-06-16T13:05:59.215163",
     "exception": false,
     "start_time": "2021-06-16T13:05:59.194161",
     "status": "completed"
    },
    "tags": []
   },
   "source": [
    "Thanks to: @oxzplvifi https://www.kaggle.com/oxzplvifi/tabular-residual-network"
   ]
  },
  {
   "cell_type": "code",
   "execution_count": 7,
   "id": "exposed-engagement",
   "metadata": {
    "execution": {
     "iopub.execute_input": "2021-06-16T13:05:59.261666Z",
     "iopub.status.busy": "2021-06-16T13:05:59.260991Z",
     "iopub.status.idle": "2021-06-16T13:05:59.589879Z",
     "shell.execute_reply": "2021-06-16T13:05:59.589259Z",
     "shell.execute_reply.started": "2021-06-16T13:04:33.194632Z"
    },
    "papermill": {
     "duration": 0.354206,
     "end_time": "2021-06-16T13:05:59.590018",
     "exception": false,
     "start_time": "2021-06-16T13:05:59.235812",
     "status": "completed"
    },
    "tags": []
   },
   "outputs": [],
   "source": [
    "sub4 = pd.read_csv('../input/1-tps-jun-21-histgradient-catboost-nn/submission4.csv')\n",
    "# Public Score: 1.74522\n",
    "# tabular residual network\n",
    "# display(sub4)"
   ]
  },
  {
   "cell_type": "markdown",
   "id": "retired-paint",
   "metadata": {
    "papermill": {
     "duration": 0.020187,
     "end_time": "2021-06-16T13:05:59.630744",
     "exception": false,
     "start_time": "2021-06-16T13:05:59.610557",
     "status": "completed"
    },
    "tags": []
   },
   "source": [
    "Thanks to: @bhavikjain https://www.kaggle.com/bhavikjain/tps-june-21-eda-models"
   ]
  },
  {
   "cell_type": "code",
   "execution_count": 8,
   "id": "nasty-interest",
   "metadata": {
    "execution": {
     "iopub.execute_input": "2021-06-16T13:05:59.678028Z",
     "iopub.status.busy": "2021-06-16T13:05:59.677308Z",
     "iopub.status.idle": "2021-06-16T13:06:00.073008Z",
     "shell.execute_reply": "2021-06-16T13:06:00.071482Z",
     "shell.execute_reply.started": "2021-06-16T13:04:33.489191Z"
    },
    "papermill": {
     "duration": 0.421215,
     "end_time": "2021-06-16T13:06:00.073185",
     "exception": false,
     "start_time": "2021-06-16T13:05:59.651970",
     "status": "completed"
    },
    "tags": []
   },
   "outputs": [],
   "source": [
    "sub5 = pd.read_csv('../input/1-tps-jun-21-histgradient-catboost-nn/submission5.csv')\n",
    "# Public Score: 1.74456\n",
    "# EDA + Models\n",
    "# display(sub5)"
   ]
  },
  {
   "cell_type": "markdown",
   "id": "revised-visibility",
   "metadata": {
    "papermill": {
     "duration": 0.02093,
     "end_time": "2021-06-16T13:06:00.115210",
     "exception": false,
     "start_time": "2021-06-16T13:06:00.094280",
     "status": "completed"
    },
    "tags": []
   },
   "source": [
    "Thanks to: @fusioncenter https://www.kaggle.com/fusioncenter/residual-network-for-tabular-data"
   ]
  },
  {
   "cell_type": "code",
   "execution_count": 9,
   "id": "executive-burner",
   "metadata": {
    "execution": {
     "iopub.execute_input": "2021-06-16T13:06:00.162588Z",
     "iopub.status.busy": "2021-06-16T13:06:00.161947Z",
     "iopub.status.idle": "2021-06-16T13:06:00.511009Z",
     "shell.execute_reply": "2021-06-16T13:06:00.510179Z",
     "shell.execute_reply.started": "2021-06-16T13:04:33.798584Z"
    },
    "papermill": {
     "duration": 0.375123,
     "end_time": "2021-06-16T13:06:00.511164",
     "exception": false,
     "start_time": "2021-06-16T13:06:00.136041",
     "status": "completed"
    },
    "tags": []
   },
   "outputs": [],
   "source": [
    "sub6 = pd.read_csv('../input/1-tps-jun-21-histgradient-catboost-nn/submission6.csv')\n",
    "# Public Score: 1.74442\n",
    "# Residual network\n",
    "# display(sub6)"
   ]
  },
  {
   "cell_type": "markdown",
   "id": "descending-offense",
   "metadata": {
    "papermill": {
     "duration": 0.020361,
     "end_time": "2021-06-16T13:06:00.554490",
     "exception": false,
     "start_time": "2021-06-16T13:06:00.534129",
     "status": "completed"
    },
    "tags": []
   },
   "source": [
    "<div class=\"alert alert-success\">  \n",
    "</div>"
   ]
  },
  {
   "cell_type": "markdown",
   "id": "instrumental-witch",
   "metadata": {
    "papermill": {
     "duration": 0.020273,
     "end_time": "2021-06-16T13:06:00.595373",
     "exception": false,
     "start_time": "2021-06-16T13:06:00.575100",
     "status": "completed"
    },
    "tags": []
   },
   "source": [
    "## Ensembling"
   ]
  },
  {
   "cell_type": "code",
   "execution_count": 10,
   "id": "caroline-syndrome",
   "metadata": {
    "execution": {
     "iopub.execute_input": "2021-06-16T13:06:00.649137Z",
     "iopub.status.busy": "2021-06-16T13:06:00.648431Z",
     "iopub.status.idle": "2021-06-16T13:06:00.653305Z",
     "shell.execute_reply": "2021-06-16T13:06:00.652816Z",
     "shell.execute_reply.started": "2021-06-16T13:04:34.110709Z"
    },
    "papermill": {
     "duration": 0.037357,
     "end_time": "2021-06-16T13:06:00.653440",
     "exception": false,
     "start_time": "2021-06-16T13:06:00.616083",
     "status": "completed"
    },
    "tags": []
   },
   "outputs": [],
   "source": [
    "def generate(main, support, coeff):\n",
    "    \n",
    "    g = main.copy()    \n",
    "    for i in main.columns[1:]:\n",
    "        \n",
    "        res = []\n",
    "        lm, Is = [], []        \n",
    "        lm = main[i].tolist()\n",
    "        ls = support[i].tolist()  \n",
    "        \n",
    "        for j in range(len(main)):\n",
    "            res.append((lm[j] * coeff) + (ls[j] * (1.- coeff)))            \n",
    "        g[i] = res\n",
    "        \n",
    "    return g"
   ]
  },
  {
   "cell_type": "code",
   "execution_count": 11,
   "id": "elegant-color",
   "metadata": {
    "execution": {
     "iopub.execute_input": "2021-06-16T13:06:00.704465Z",
     "iopub.status.busy": "2021-06-16T13:06:00.703172Z",
     "iopub.status.idle": "2021-06-16T13:06:03.246710Z",
     "shell.execute_reply": "2021-06-16T13:06:03.246043Z",
     "shell.execute_reply.started": "2021-06-16T13:04:34.118038Z"
    },
    "papermill": {
     "duration": 2.570886,
     "end_time": "2021-06-16T13:06:03.246854",
     "exception": false,
     "start_time": "2021-06-16T13:06:00.675968",
     "status": "completed"
    },
    "tags": []
   },
   "outputs": [],
   "source": [
    "sub = generate(sub2, sub1, 0.85)\n",
    "\n",
    "sub = generate(sub3, sub , 0.85)\n",
    "\n",
    "sub = generate(sub4, sub , 0.85)\n",
    "\n",
    "sub = generate(sub5, sub , 0.85)\n",
    "\n",
    "sub = generate(sub6, sub , 0.55)\n",
    "\n",
    "sub_ens = sub"
   ]
  },
  {
   "cell_type": "code",
   "execution_count": 12,
   "id": "rural-wrapping",
   "metadata": {
    "execution": {
     "iopub.execute_input": "2021-06-16T13:06:03.300803Z",
     "iopub.status.busy": "2021-06-16T13:06:03.293487Z",
     "iopub.status.idle": "2021-06-16T13:06:03.410675Z",
     "shell.execute_reply": "2021-06-16T13:06:03.410144Z",
     "shell.execute_reply.started": "2021-06-16T13:04:35.570995Z"
    },
    "papermill": {
     "duration": 0.143134,
     "end_time": "2021-06-16T13:06:03.410812",
     "exception": false,
     "start_time": "2021-06-16T13:06:03.267678",
     "status": "completed"
    },
    "tags": []
   },
   "outputs": [
    {
     "data": {
      "text/html": [
       "<div>\n",
       "<style scoped>\n",
       "    .dataframe tbody tr th:only-of-type {\n",
       "        vertical-align: middle;\n",
       "    }\n",
       "\n",
       "    .dataframe tbody tr th {\n",
       "        vertical-align: top;\n",
       "    }\n",
       "\n",
       "    .dataframe thead th {\n",
       "        text-align: right;\n",
       "    }\n",
       "</style>\n",
       "<table border=\"1\" class=\"dataframe\">\n",
       "  <thead>\n",
       "    <tr style=\"text-align: right;\">\n",
       "      <th></th>\n",
       "      <th>id</th>\n",
       "      <th>Class_1</th>\n",
       "      <th>Class_2</th>\n",
       "      <th>Class_3</th>\n",
       "      <th>Class_4</th>\n",
       "      <th>Class_5</th>\n",
       "      <th>Class_6</th>\n",
       "      <th>Class_7</th>\n",
       "      <th>Class_8</th>\n",
       "      <th>Class_9</th>\n",
       "    </tr>\n",
       "  </thead>\n",
       "  <tbody>\n",
       "    <tr>\n",
       "      <th>0</th>\n",
       "      <td>200000</td>\n",
       "      <td>0.065233</td>\n",
       "      <td>0.412874</td>\n",
       "      <td>0.163801</td>\n",
       "      <td>0.026352</td>\n",
       "      <td>0.013123</td>\n",
       "      <td>0.136873</td>\n",
       "      <td>0.020597</td>\n",
       "      <td>0.043014</td>\n",
       "      <td>0.118133</td>\n",
       "    </tr>\n",
       "    <tr>\n",
       "      <th>1</th>\n",
       "      <td>200001</td>\n",
       "      <td>0.043917</td>\n",
       "      <td>0.073774</td>\n",
       "      <td>0.055350</td>\n",
       "      <td>0.019417</td>\n",
       "      <td>0.013772</td>\n",
       "      <td>0.271951</td>\n",
       "      <td>0.086928</td>\n",
       "      <td>0.304924</td>\n",
       "      <td>0.129967</td>\n",
       "    </tr>\n",
       "    <tr>\n",
       "      <th>2</th>\n",
       "      <td>200002</td>\n",
       "      <td>0.018246</td>\n",
       "      <td>0.027091</td>\n",
       "      <td>0.017714</td>\n",
       "      <td>0.010576</td>\n",
       "      <td>0.005988</td>\n",
       "      <td>0.747704</td>\n",
       "      <td>0.023868</td>\n",
       "      <td>0.105481</td>\n",
       "      <td>0.043331</td>\n",
       "    </tr>\n",
       "    <tr>\n",
       "      <th>3</th>\n",
       "      <td>200003</td>\n",
       "      <td>0.049925</td>\n",
       "      <td>0.127541</td>\n",
       "      <td>0.089373</td>\n",
       "      <td>0.034033</td>\n",
       "      <td>0.018137</td>\n",
       "      <td>0.230037</td>\n",
       "      <td>0.075726</td>\n",
       "      <td>0.212955</td>\n",
       "      <td>0.162274</td>\n",
       "    </tr>\n",
       "    <tr>\n",
       "      <th>4</th>\n",
       "      <td>200004</td>\n",
       "      <td>0.043782</td>\n",
       "      <td>0.111239</td>\n",
       "      <td>0.082003</td>\n",
       "      <td>0.025667</td>\n",
       "      <td>0.015519</td>\n",
       "      <td>0.272872</td>\n",
       "      <td>0.072847</td>\n",
       "      <td>0.226407</td>\n",
       "      <td>0.149663</td>\n",
       "    </tr>\n",
       "    <tr>\n",
       "      <th>...</th>\n",
       "      <td>...</td>\n",
       "      <td>...</td>\n",
       "      <td>...</td>\n",
       "      <td>...</td>\n",
       "      <td>...</td>\n",
       "      <td>...</td>\n",
       "      <td>...</td>\n",
       "      <td>...</td>\n",
       "      <td>...</td>\n",
       "      <td>...</td>\n",
       "    </tr>\n",
       "    <tr>\n",
       "      <th>99995</th>\n",
       "      <td>299995</td>\n",
       "      <td>0.079182</td>\n",
       "      <td>0.368577</td>\n",
       "      <td>0.145113</td>\n",
       "      <td>0.031257</td>\n",
       "      <td>0.016672</td>\n",
       "      <td>0.103340</td>\n",
       "      <td>0.035974</td>\n",
       "      <td>0.077667</td>\n",
       "      <td>0.142218</td>\n",
       "    </tr>\n",
       "    <tr>\n",
       "      <th>99996</th>\n",
       "      <td>299996</td>\n",
       "      <td>0.048118</td>\n",
       "      <td>0.242324</td>\n",
       "      <td>0.132491</td>\n",
       "      <td>0.028037</td>\n",
       "      <td>0.016411</td>\n",
       "      <td>0.162394</td>\n",
       "      <td>0.053110</td>\n",
       "      <td>0.153880</td>\n",
       "      <td>0.163236</td>\n",
       "    </tr>\n",
       "    <tr>\n",
       "      <th>99997</th>\n",
       "      <td>299997</td>\n",
       "      <td>0.059417</td>\n",
       "      <td>0.236502</td>\n",
       "      <td>0.123658</td>\n",
       "      <td>0.029569</td>\n",
       "      <td>0.015028</td>\n",
       "      <td>0.195043</td>\n",
       "      <td>0.049292</td>\n",
       "      <td>0.138666</td>\n",
       "      <td>0.152826</td>\n",
       "    </tr>\n",
       "    <tr>\n",
       "      <th>99998</th>\n",
       "      <td>299998</td>\n",
       "      <td>0.036098</td>\n",
       "      <td>0.021789</td>\n",
       "      <td>0.020296</td>\n",
       "      <td>0.011968</td>\n",
       "      <td>0.011675</td>\n",
       "      <td>0.353187</td>\n",
       "      <td>0.074146</td>\n",
       "      <td>0.382750</td>\n",
       "      <td>0.088091</td>\n",
       "    </tr>\n",
       "    <tr>\n",
       "      <th>99999</th>\n",
       "      <td>299999</td>\n",
       "      <td>0.050093</td>\n",
       "      <td>0.086288</td>\n",
       "      <td>0.074949</td>\n",
       "      <td>0.027868</td>\n",
       "      <td>0.022080</td>\n",
       "      <td>0.272799</td>\n",
       "      <td>0.085244</td>\n",
       "      <td>0.242176</td>\n",
       "      <td>0.138504</td>\n",
       "    </tr>\n",
       "  </tbody>\n",
       "</table>\n",
       "<p>100000 rows × 10 columns</p>\n",
       "</div>"
      ],
      "text/plain": [
       "           id   Class_1   Class_2   Class_3   Class_4   Class_5   Class_6  \\\n",
       "0      200000  0.065233  0.412874  0.163801  0.026352  0.013123  0.136873   \n",
       "1      200001  0.043917  0.073774  0.055350  0.019417  0.013772  0.271951   \n",
       "2      200002  0.018246  0.027091  0.017714  0.010576  0.005988  0.747704   \n",
       "3      200003  0.049925  0.127541  0.089373  0.034033  0.018137  0.230037   \n",
       "4      200004  0.043782  0.111239  0.082003  0.025667  0.015519  0.272872   \n",
       "...       ...       ...       ...       ...       ...       ...       ...   \n",
       "99995  299995  0.079182  0.368577  0.145113  0.031257  0.016672  0.103340   \n",
       "99996  299996  0.048118  0.242324  0.132491  0.028037  0.016411  0.162394   \n",
       "99997  299997  0.059417  0.236502  0.123658  0.029569  0.015028  0.195043   \n",
       "99998  299998  0.036098  0.021789  0.020296  0.011968  0.011675  0.353187   \n",
       "99999  299999  0.050093  0.086288  0.074949  0.027868  0.022080  0.272799   \n",
       "\n",
       "        Class_7   Class_8   Class_9  \n",
       "0      0.020597  0.043014  0.118133  \n",
       "1      0.086928  0.304924  0.129967  \n",
       "2      0.023868  0.105481  0.043331  \n",
       "3      0.075726  0.212955  0.162274  \n",
       "4      0.072847  0.226407  0.149663  \n",
       "...         ...       ...       ...  \n",
       "99995  0.035974  0.077667  0.142218  \n",
       "99996  0.053110  0.153880  0.163236  \n",
       "99997  0.049292  0.138666  0.152826  \n",
       "99998  0.074146  0.382750  0.088091  \n",
       "99999  0.085244  0.242176  0.138504  \n",
       "\n",
       "[100000 rows x 10 columns]"
      ]
     },
     "metadata": {},
     "output_type": "display_data"
    },
    {
     "data": {
      "text/html": [
       "<div>\n",
       "<style scoped>\n",
       "    .dataframe tbody tr th:only-of-type {\n",
       "        vertical-align: middle;\n",
       "    }\n",
       "\n",
       "    .dataframe tbody tr th {\n",
       "        vertical-align: top;\n",
       "    }\n",
       "\n",
       "    .dataframe thead th {\n",
       "        text-align: right;\n",
       "    }\n",
       "</style>\n",
       "<table border=\"1\" class=\"dataframe\">\n",
       "  <thead>\n",
       "    <tr style=\"text-align: right;\">\n",
       "      <th></th>\n",
       "      <th>count</th>\n",
       "      <th>mean</th>\n",
       "      <th>std</th>\n",
       "      <th>min</th>\n",
       "      <th>25%</th>\n",
       "      <th>50%</th>\n",
       "      <th>75%</th>\n",
       "      <th>max</th>\n",
       "    </tr>\n",
       "  </thead>\n",
       "  <tbody>\n",
       "    <tr>\n",
       "      <th>id</th>\n",
       "      <td>100000.0</td>\n",
       "      <td>249999.500000</td>\n",
       "      <td>28867.657797</td>\n",
       "      <td>200000.000000</td>\n",
       "      <td>224999.750000</td>\n",
       "      <td>249999.500000</td>\n",
       "      <td>274999.250000</td>\n",
       "      <td>299999.000000</td>\n",
       "    </tr>\n",
       "    <tr>\n",
       "      <th>Class_1</th>\n",
       "      <td>100000.0</td>\n",
       "      <td>0.045020</td>\n",
       "      <td>0.011955</td>\n",
       "      <td>0.001416</td>\n",
       "      <td>0.039578</td>\n",
       "      <td>0.045647</td>\n",
       "      <td>0.051179</td>\n",
       "      <td>0.108009</td>\n",
       "    </tr>\n",
       "    <tr>\n",
       "      <th>Class_2</th>\n",
       "      <td>100000.0</td>\n",
       "      <td>0.121891</td>\n",
       "      <td>0.112132</td>\n",
       "      <td>0.000838</td>\n",
       "      <td>0.040982</td>\n",
       "      <td>0.079853</td>\n",
       "      <td>0.164986</td>\n",
       "      <td>0.539838</td>\n",
       "    </tr>\n",
       "    <tr>\n",
       "      <th>Class_3</th>\n",
       "      <td>100000.0</td>\n",
       "      <td>0.073825</td>\n",
       "      <td>0.047938</td>\n",
       "      <td>0.000387</td>\n",
       "      <td>0.034761</td>\n",
       "      <td>0.061801</td>\n",
       "      <td>0.107380</td>\n",
       "      <td>0.243158</td>\n",
       "    </tr>\n",
       "    <tr>\n",
       "      <th>Class_4</th>\n",
       "      <td>100000.0</td>\n",
       "      <td>0.023488</td>\n",
       "      <td>0.007988</td>\n",
       "      <td>0.000603</td>\n",
       "      <td>0.018004</td>\n",
       "      <td>0.024601</td>\n",
       "      <td>0.029549</td>\n",
       "      <td>0.066554</td>\n",
       "    </tr>\n",
       "    <tr>\n",
       "      <th>Class_5</th>\n",
       "      <td>100000.0</td>\n",
       "      <td>0.015086</td>\n",
       "      <td>0.004946</td>\n",
       "      <td>0.000289</td>\n",
       "      <td>0.012249</td>\n",
       "      <td>0.015244</td>\n",
       "      <td>0.018134</td>\n",
       "      <td>0.046656</td>\n",
       "    </tr>\n",
       "    <tr>\n",
       "      <th>Class_6</th>\n",
       "      <td>100000.0</td>\n",
       "      <td>0.259086</td>\n",
       "      <td>0.163228</td>\n",
       "      <td>0.004277</td>\n",
       "      <td>0.158346</td>\n",
       "      <td>0.244064</td>\n",
       "      <td>0.309323</td>\n",
       "      <td>0.981633</td>\n",
       "    </tr>\n",
       "    <tr>\n",
       "      <th>Class_7</th>\n",
       "      <td>100000.0</td>\n",
       "      <td>0.074240</td>\n",
       "      <td>0.026847</td>\n",
       "      <td>0.001602</td>\n",
       "      <td>0.056577</td>\n",
       "      <td>0.078983</td>\n",
       "      <td>0.094701</td>\n",
       "      <td>0.146041</td>\n",
       "    </tr>\n",
       "    <tr>\n",
       "      <th>Class_8</th>\n",
       "      <td>100000.0</td>\n",
       "      <td>0.259697</td>\n",
       "      <td>0.117738</td>\n",
       "      <td>0.009315</td>\n",
       "      <td>0.169077</td>\n",
       "      <td>0.267883</td>\n",
       "      <td>0.351282</td>\n",
       "      <td>0.666928</td>\n",
       "    </tr>\n",
       "    <tr>\n",
       "      <th>Class_9</th>\n",
       "      <td>100000.0</td>\n",
       "      <td>0.127666</td>\n",
       "      <td>0.037018</td>\n",
       "      <td>0.002180</td>\n",
       "      <td>0.106086</td>\n",
       "      <td>0.133517</td>\n",
       "      <td>0.156131</td>\n",
       "      <td>0.211176</td>\n",
       "    </tr>\n",
       "  </tbody>\n",
       "</table>\n",
       "</div>"
      ],
      "text/plain": [
       "            count           mean           std            min            25%  \\\n",
       "id       100000.0  249999.500000  28867.657797  200000.000000  224999.750000   \n",
       "Class_1  100000.0       0.045020      0.011955       0.001416       0.039578   \n",
       "Class_2  100000.0       0.121891      0.112132       0.000838       0.040982   \n",
       "Class_3  100000.0       0.073825      0.047938       0.000387       0.034761   \n",
       "Class_4  100000.0       0.023488      0.007988       0.000603       0.018004   \n",
       "Class_5  100000.0       0.015086      0.004946       0.000289       0.012249   \n",
       "Class_6  100000.0       0.259086      0.163228       0.004277       0.158346   \n",
       "Class_7  100000.0       0.074240      0.026847       0.001602       0.056577   \n",
       "Class_8  100000.0       0.259697      0.117738       0.009315       0.169077   \n",
       "Class_9  100000.0       0.127666      0.037018       0.002180       0.106086   \n",
       "\n",
       "                   50%            75%            max  \n",
       "id       249999.500000  274999.250000  299999.000000  \n",
       "Class_1       0.045647       0.051179       0.108009  \n",
       "Class_2       0.079853       0.164986       0.539838  \n",
       "Class_3       0.061801       0.107380       0.243158  \n",
       "Class_4       0.024601       0.029549       0.066554  \n",
       "Class_5       0.015244       0.018134       0.046656  \n",
       "Class_6       0.244064       0.309323       0.981633  \n",
       "Class_7       0.078983       0.094701       0.146041  \n",
       "Class_8       0.267883       0.351282       0.666928  \n",
       "Class_9       0.133517       0.156131       0.211176  "
      ]
     },
     "metadata": {},
     "output_type": "display_data"
    }
   ],
   "source": [
    "display(sub_ens, sub_ens.describe().transpose())"
   ]
  },
  {
   "cell_type": "code",
   "execution_count": 13,
   "id": "nasty-charge",
   "metadata": {
    "execution": {
     "iopub.execute_input": "2021-06-16T13:06:03.460493Z",
     "iopub.status.busy": "2021-06-16T13:06:03.459877Z",
     "iopub.status.idle": "2021-06-16T13:06:06.113505Z",
     "shell.execute_reply": "2021-06-16T13:06:06.112911Z",
     "shell.execute_reply.started": "2021-06-16T13:04:35.663913Z"
    },
    "papermill": {
     "duration": 2.680422,
     "end_time": "2021-06-16T13:06:06.113669",
     "exception": false,
     "start_time": "2021-06-16T13:06:03.433247",
     "status": "completed"
    },
    "tags": []
   },
   "outputs": [
    {
     "name": "stdout",
     "output_type": "stream",
     "text": [
      "__notebook__.ipynb  submission_ens.csv\n"
     ]
    }
   ],
   "source": [
    "sub_ens.to_csv(\"submission_ens.csv\",index=False)\n",
    "# Public Score: 1.74415\n",
    "!ls"
   ]
  },
  {
   "cell_type": "markdown",
   "id": "yellow-personality",
   "metadata": {
    "papermill": {
     "duration": 0.023111,
     "end_time": "2021-06-16T13:06:06.159886",
     "exception": false,
     "start_time": "2021-06-16T13:06:06.136775",
     "status": "completed"
    },
    "tags": []
   },
   "source": [
    "<div class=\"alert alert-success\">  \n",
    "</div>"
   ]
  },
  {
   "cell_type": "markdown",
   "id": "confirmed-comparison",
   "metadata": {
    "papermill": {
     "duration": 0.022675,
     "end_time": "2021-06-16T13:06:06.205904",
     "exception": false,
     "start_time": "2021-06-16T13:06:06.183229",
     "status": "completed"
    },
    "tags": []
   },
   "source": [
    "## Comparative Method for Classifier"
   ]
  },
  {
   "cell_type": "code",
   "execution_count": 14,
   "id": "essential-feedback",
   "metadata": {
    "execution": {
     "iopub.execute_input": "2021-06-16T13:06:06.269512Z",
     "iopub.status.busy": "2021-06-16T13:06:06.268489Z",
     "iopub.status.idle": "2021-06-16T13:06:06.271479Z",
     "shell.execute_reply": "2021-06-16T13:06:06.271946Z",
     "shell.execute_reply.started": "2021-06-16T13:04:37.086362Z"
    },
    "papermill": {
     "duration": 0.043224,
     "end_time": "2021-06-16T13:06:06.272131",
     "exception": false,
     "start_time": "2021-06-16T13:06:06.228907",
     "status": "completed"
    },
    "tags": []
   },
   "outputs": [],
   "source": [
    "def improve(sub1, sub2, sub3, sub4, sub5, sub6, sub_ens, majority, m_majority):  \n",
    "    \n",
    "    sub1v = sub1.values\n",
    "    sub2v = sub2.values\n",
    "    sub3v = sub3.values\n",
    "    sub4v = sub4.values\n",
    "    sub5v = sub5.values \n",
    "    sub6v = sub6.values\n",
    "    \n",
    "    imp = sub_ens.copy()\n",
    "    impv = imp.values\n",
    "    NCLASS = 9\n",
    "    number = 0\n",
    "\n",
    "    for i in range (len(sub_ens)):\n",
    "        c_count = 0  \n",
    "        row = impv[i,1:]\n",
    "        row_sort = np.sort(row)        \n",
    "        \n",
    "        row1 = sub1v[i,1:]\n",
    "        row2 = sub2v[i,1:]\n",
    "        row3 = sub3v[i,1:]\n",
    "        row4 = sub4v[i,1:]\n",
    "        row5 = sub5v[i,1:]    \n",
    "        row6 = sub6v[i,1:] \n",
    "        row1_sort = np.sort(row1)\n",
    "        row2_sort = np.sort(row2)\n",
    "        row3_sort = np.sort(row3)\n",
    "        row4_sort = np.sort(row4)\n",
    "        row5_sort = np.sort(row5)\n",
    "        row6_sort = np.sort(row6)\n",
    "                      \n",
    "        for j in range (NCLASS): \n",
    "            count = 0\n",
    "            \n",
    "            for k in range (NCLASS):                \n",
    "                if (row6[j] == row6_sort[k]): \n",
    "                    \n",
    "                    if (row1[j] == row1_sort[k]):\n",
    "                        count = count + 1\n",
    "                    if (row2[j] == row2_sort[k]):\n",
    "                        count = count + 1                   \n",
    "                    if (row3[j] == row3_sort[k]):\n",
    "                        count = count + 1   \n",
    "                    if (row4[j] == row4_sort[k]):\n",
    "                        count = count + 1 \n",
    "                    if (row5[j] == row5_sort[k]):\n",
    "                        count = count + 1 \n",
    "                        \n",
    "            if (count >= majority):\n",
    "                c_count = c_count + 1\n",
    "        \n",
    "        if ((c_count >= m_majority) and (row6_sort[8] >= row_sort[8])): \n",
    "            impv[i, 1:] = row6            \n",
    "            number = number + 1            \n",
    "#           print (number, i, c_count)                         \n",
    "                    \n",
    "    imp.iloc[:, 1:] = impv[:, 1:]\n",
    "    p_number = round(((number / 100000) * 100),2)\n",
    "    print('>>>  R  E  T  U  R  N  S  <<<')\n",
    "    print(30 * '=')\n",
    "    print(f'Number of changes: {number}\\n')\n",
    "    print(f'Percentage of changes: {p_number} %')\n",
    "    print(30 * '=')\n",
    "    return imp      "
   ]
  },
  {
   "cell_type": "code",
   "execution_count": 15,
   "id": "internal-president",
   "metadata": {
    "_kg_hide-output": false,
    "execution": {
     "iopub.execute_input": "2021-06-16T13:06:06.330764Z",
     "iopub.status.busy": "2021-06-16T13:06:06.329501Z",
     "iopub.status.idle": "2021-06-16T13:06:17.863777Z",
     "shell.execute_reply": "2021-06-16T13:06:17.864272Z",
     "shell.execute_reply.started": "2021-06-16T13:04:37.106360Z"
    },
    "papermill": {
     "duration": 11.569586,
     "end_time": "2021-06-16T13:06:17.864464",
     "exception": false,
     "start_time": "2021-06-16T13:06:06.294878",
     "status": "completed"
    },
    "tags": []
   },
   "outputs": [
    {
     "name": "stdout",
     "output_type": "stream",
     "text": [
      ">>>  R  E  T  U  R  N  S  <<<\n",
      "==============================\n",
      "Number of changes: 24122\n",
      "\n",
      "Percentage of changes: 24.12 %\n",
      "==============================\n"
     ]
    }
   ],
   "source": [
    "sub_imp = improve(sub1, sub2, sub3, sub4, sub5, sub6, sub_ens, 5, 7)"
   ]
  },
  {
   "cell_type": "code",
   "execution_count": 16,
   "id": "further-employee",
   "metadata": {
    "execution": {
     "iopub.execute_input": "2021-06-16T13:06:17.913284Z",
     "iopub.status.busy": "2021-06-16T13:06:17.912663Z",
     "iopub.status.idle": "2021-06-16T13:06:18.010066Z",
     "shell.execute_reply": "2021-06-16T13:06:18.010510Z",
     "shell.execute_reply.started": "2021-06-16T13:04:49.225558Z"
    },
    "papermill": {
     "duration": 0.123221,
     "end_time": "2021-06-16T13:06:18.010711",
     "exception": false,
     "start_time": "2021-06-16T13:06:17.887490",
     "status": "completed"
    },
    "tags": []
   },
   "outputs": [
    {
     "data": {
      "text/html": [
       "<div>\n",
       "<style scoped>\n",
       "    .dataframe tbody tr th:only-of-type {\n",
       "        vertical-align: middle;\n",
       "    }\n",
       "\n",
       "    .dataframe tbody tr th {\n",
       "        vertical-align: top;\n",
       "    }\n",
       "\n",
       "    .dataframe thead th {\n",
       "        text-align: right;\n",
       "    }\n",
       "</style>\n",
       "<table border=\"1\" class=\"dataframe\">\n",
       "  <thead>\n",
       "    <tr style=\"text-align: right;\">\n",
       "      <th></th>\n",
       "      <th>id</th>\n",
       "      <th>Class_1</th>\n",
       "      <th>Class_2</th>\n",
       "      <th>Class_3</th>\n",
       "      <th>Class_4</th>\n",
       "      <th>Class_5</th>\n",
       "      <th>Class_6</th>\n",
       "      <th>Class_7</th>\n",
       "      <th>Class_8</th>\n",
       "      <th>Class_9</th>\n",
       "    </tr>\n",
       "  </thead>\n",
       "  <tbody>\n",
       "    <tr>\n",
       "      <th>0</th>\n",
       "      <td>200000</td>\n",
       "      <td>0.065233</td>\n",
       "      <td>0.412874</td>\n",
       "      <td>0.163801</td>\n",
       "      <td>0.026352</td>\n",
       "      <td>0.013123</td>\n",
       "      <td>0.136873</td>\n",
       "      <td>0.020597</td>\n",
       "      <td>0.043014</td>\n",
       "      <td>0.118133</td>\n",
       "    </tr>\n",
       "    <tr>\n",
       "      <th>1</th>\n",
       "      <td>200001</td>\n",
       "      <td>0.043917</td>\n",
       "      <td>0.073774</td>\n",
       "      <td>0.055350</td>\n",
       "      <td>0.019417</td>\n",
       "      <td>0.013772</td>\n",
       "      <td>0.271951</td>\n",
       "      <td>0.086928</td>\n",
       "      <td>0.304924</td>\n",
       "      <td>0.129967</td>\n",
       "    </tr>\n",
       "    <tr>\n",
       "      <th>2</th>\n",
       "      <td>200002</td>\n",
       "      <td>0.018246</td>\n",
       "      <td>0.027091</td>\n",
       "      <td>0.017714</td>\n",
       "      <td>0.010576</td>\n",
       "      <td>0.005988</td>\n",
       "      <td>0.747704</td>\n",
       "      <td>0.023868</td>\n",
       "      <td>0.105481</td>\n",
       "      <td>0.043331</td>\n",
       "    </tr>\n",
       "    <tr>\n",
       "      <th>3</th>\n",
       "      <td>200003</td>\n",
       "      <td>0.050316</td>\n",
       "      <td>0.126482</td>\n",
       "      <td>0.086695</td>\n",
       "      <td>0.035330</td>\n",
       "      <td>0.016767</td>\n",
       "      <td>0.234146</td>\n",
       "      <td>0.075299</td>\n",
       "      <td>0.211286</td>\n",
       "      <td>0.163680</td>\n",
       "    </tr>\n",
       "    <tr>\n",
       "      <th>4</th>\n",
       "      <td>200004</td>\n",
       "      <td>0.043782</td>\n",
       "      <td>0.111239</td>\n",
       "      <td>0.082003</td>\n",
       "      <td>0.025667</td>\n",
       "      <td>0.015519</td>\n",
       "      <td>0.272872</td>\n",
       "      <td>0.072847</td>\n",
       "      <td>0.226407</td>\n",
       "      <td>0.149663</td>\n",
       "    </tr>\n",
       "    <tr>\n",
       "      <th>...</th>\n",
       "      <td>...</td>\n",
       "      <td>...</td>\n",
       "      <td>...</td>\n",
       "      <td>...</td>\n",
       "      <td>...</td>\n",
       "      <td>...</td>\n",
       "      <td>...</td>\n",
       "      <td>...</td>\n",
       "      <td>...</td>\n",
       "      <td>...</td>\n",
       "    </tr>\n",
       "    <tr>\n",
       "      <th>99995</th>\n",
       "      <td>299995</td>\n",
       "      <td>0.079182</td>\n",
       "      <td>0.368577</td>\n",
       "      <td>0.145113</td>\n",
       "      <td>0.031257</td>\n",
       "      <td>0.016672</td>\n",
       "      <td>0.103340</td>\n",
       "      <td>0.035974</td>\n",
       "      <td>0.077667</td>\n",
       "      <td>0.142218</td>\n",
       "    </tr>\n",
       "    <tr>\n",
       "      <th>99996</th>\n",
       "      <td>299996</td>\n",
       "      <td>0.048118</td>\n",
       "      <td>0.242324</td>\n",
       "      <td>0.132491</td>\n",
       "      <td>0.028037</td>\n",
       "      <td>0.016411</td>\n",
       "      <td>0.162394</td>\n",
       "      <td>0.053110</td>\n",
       "      <td>0.153880</td>\n",
       "      <td>0.163236</td>\n",
       "    </tr>\n",
       "    <tr>\n",
       "      <th>99997</th>\n",
       "      <td>299997</td>\n",
       "      <td>0.060779</td>\n",
       "      <td>0.238580</td>\n",
       "      <td>0.125162</td>\n",
       "      <td>0.028374</td>\n",
       "      <td>0.014319</td>\n",
       "      <td>0.195207</td>\n",
       "      <td>0.048074</td>\n",
       "      <td>0.136210</td>\n",
       "      <td>0.153295</td>\n",
       "    </tr>\n",
       "    <tr>\n",
       "      <th>99998</th>\n",
       "      <td>299998</td>\n",
       "      <td>0.036098</td>\n",
       "      <td>0.021789</td>\n",
       "      <td>0.020296</td>\n",
       "      <td>0.011968</td>\n",
       "      <td>0.011675</td>\n",
       "      <td>0.353187</td>\n",
       "      <td>0.074146</td>\n",
       "      <td>0.382750</td>\n",
       "      <td>0.088091</td>\n",
       "    </tr>\n",
       "    <tr>\n",
       "      <th>99999</th>\n",
       "      <td>299999</td>\n",
       "      <td>0.050093</td>\n",
       "      <td>0.086288</td>\n",
       "      <td>0.074949</td>\n",
       "      <td>0.027868</td>\n",
       "      <td>0.022080</td>\n",
       "      <td>0.272799</td>\n",
       "      <td>0.085244</td>\n",
       "      <td>0.242176</td>\n",
       "      <td>0.138504</td>\n",
       "    </tr>\n",
       "  </tbody>\n",
       "</table>\n",
       "<p>100000 rows × 10 columns</p>\n",
       "</div>"
      ],
      "text/plain": [
       "           id   Class_1   Class_2   Class_3   Class_4   Class_5   Class_6  \\\n",
       "0      200000  0.065233  0.412874  0.163801  0.026352  0.013123  0.136873   \n",
       "1      200001  0.043917  0.073774  0.055350  0.019417  0.013772  0.271951   \n",
       "2      200002  0.018246  0.027091  0.017714  0.010576  0.005988  0.747704   \n",
       "3      200003  0.050316  0.126482  0.086695  0.035330  0.016767  0.234146   \n",
       "4      200004  0.043782  0.111239  0.082003  0.025667  0.015519  0.272872   \n",
       "...       ...       ...       ...       ...       ...       ...       ...   \n",
       "99995  299995  0.079182  0.368577  0.145113  0.031257  0.016672  0.103340   \n",
       "99996  299996  0.048118  0.242324  0.132491  0.028037  0.016411  0.162394   \n",
       "99997  299997  0.060779  0.238580  0.125162  0.028374  0.014319  0.195207   \n",
       "99998  299998  0.036098  0.021789  0.020296  0.011968  0.011675  0.353187   \n",
       "99999  299999  0.050093  0.086288  0.074949  0.027868  0.022080  0.272799   \n",
       "\n",
       "        Class_7   Class_8   Class_9  \n",
       "0      0.020597  0.043014  0.118133  \n",
       "1      0.086928  0.304924  0.129967  \n",
       "2      0.023868  0.105481  0.043331  \n",
       "3      0.075299  0.211286  0.163680  \n",
       "4      0.072847  0.226407  0.149663  \n",
       "...         ...       ...       ...  \n",
       "99995  0.035974  0.077667  0.142218  \n",
       "99996  0.053110  0.153880  0.163236  \n",
       "99997  0.048074  0.136210  0.153295  \n",
       "99998  0.074146  0.382750  0.088091  \n",
       "99999  0.085244  0.242176  0.138504  \n",
       "\n",
       "[100000 rows x 10 columns]"
      ]
     },
     "metadata": {},
     "output_type": "display_data"
    },
    {
     "data": {
      "text/html": [
       "<div>\n",
       "<style scoped>\n",
       "    .dataframe tbody tr th:only-of-type {\n",
       "        vertical-align: middle;\n",
       "    }\n",
       "\n",
       "    .dataframe tbody tr th {\n",
       "        vertical-align: top;\n",
       "    }\n",
       "\n",
       "    .dataframe thead th {\n",
       "        text-align: right;\n",
       "    }\n",
       "</style>\n",
       "<table border=\"1\" class=\"dataframe\">\n",
       "  <thead>\n",
       "    <tr style=\"text-align: right;\">\n",
       "      <th></th>\n",
       "      <th>count</th>\n",
       "      <th>mean</th>\n",
       "      <th>std</th>\n",
       "      <th>min</th>\n",
       "      <th>25%</th>\n",
       "      <th>50%</th>\n",
       "      <th>75%</th>\n",
       "      <th>max</th>\n",
       "    </tr>\n",
       "  </thead>\n",
       "  <tbody>\n",
       "    <tr>\n",
       "      <th>id</th>\n",
       "      <td>100000.0</td>\n",
       "      <td>249999.500000</td>\n",
       "      <td>28867.657797</td>\n",
       "      <td>200000.000000</td>\n",
       "      <td>224999.750000</td>\n",
       "      <td>249999.500000</td>\n",
       "      <td>274999.250000</td>\n",
       "      <td>299999.000000</td>\n",
       "    </tr>\n",
       "    <tr>\n",
       "      <th>Class_1</th>\n",
       "      <td>100000.0</td>\n",
       "      <td>0.044979</td>\n",
       "      <td>0.012036</td>\n",
       "      <td>0.001416</td>\n",
       "      <td>0.039437</td>\n",
       "      <td>0.045593</td>\n",
       "      <td>0.051202</td>\n",
       "      <td>0.108009</td>\n",
       "    </tr>\n",
       "    <tr>\n",
       "      <th>Class_2</th>\n",
       "      <td>100000.0</td>\n",
       "      <td>0.121698</td>\n",
       "      <td>0.112299</td>\n",
       "      <td>0.000838</td>\n",
       "      <td>0.040797</td>\n",
       "      <td>0.079348</td>\n",
       "      <td>0.164806</td>\n",
       "      <td>0.539838</td>\n",
       "    </tr>\n",
       "    <tr>\n",
       "      <th>Class_3</th>\n",
       "      <td>100000.0</td>\n",
       "      <td>0.073653</td>\n",
       "      <td>0.048035</td>\n",
       "      <td>0.000387</td>\n",
       "      <td>0.034556</td>\n",
       "      <td>0.061430</td>\n",
       "      <td>0.107342</td>\n",
       "      <td>0.243158</td>\n",
       "    </tr>\n",
       "    <tr>\n",
       "      <th>Class_4</th>\n",
       "      <td>100000.0</td>\n",
       "      <td>0.023456</td>\n",
       "      <td>0.008020</td>\n",
       "      <td>0.000603</td>\n",
       "      <td>0.017926</td>\n",
       "      <td>0.024560</td>\n",
       "      <td>0.029539</td>\n",
       "      <td>0.066554</td>\n",
       "    </tr>\n",
       "    <tr>\n",
       "      <th>Class_5</th>\n",
       "      <td>100000.0</td>\n",
       "      <td>0.015019</td>\n",
       "      <td>0.004973</td>\n",
       "      <td>0.000289</td>\n",
       "      <td>0.012125</td>\n",
       "      <td>0.015163</td>\n",
       "      <td>0.018090</td>\n",
       "      <td>0.046656</td>\n",
       "    </tr>\n",
       "    <tr>\n",
       "      <th>Class_6</th>\n",
       "      <td>100000.0</td>\n",
       "      <td>0.259358</td>\n",
       "      <td>0.163943</td>\n",
       "      <td>0.004277</td>\n",
       "      <td>0.157469</td>\n",
       "      <td>0.243782</td>\n",
       "      <td>0.310066</td>\n",
       "      <td>0.981633</td>\n",
       "    </tr>\n",
       "    <tr>\n",
       "      <th>Class_7</th>\n",
       "      <td>100000.0</td>\n",
       "      <td>0.074209</td>\n",
       "      <td>0.026934</td>\n",
       "      <td>0.001602</td>\n",
       "      <td>0.056377</td>\n",
       "      <td>0.078909</td>\n",
       "      <td>0.094819</td>\n",
       "      <td>0.146041</td>\n",
       "    </tr>\n",
       "    <tr>\n",
       "      <th>Class_8</th>\n",
       "      <td>100000.0</td>\n",
       "      <td>0.260179</td>\n",
       "      <td>0.118313</td>\n",
       "      <td>0.009315</td>\n",
       "      <td>0.168812</td>\n",
       "      <td>0.268047</td>\n",
       "      <td>0.352425</td>\n",
       "      <td>0.666928</td>\n",
       "    </tr>\n",
       "    <tr>\n",
       "      <th>Class_9</th>\n",
       "      <td>100000.0</td>\n",
       "      <td>0.127451</td>\n",
       "      <td>0.037191</td>\n",
       "      <td>0.002180</td>\n",
       "      <td>0.105715</td>\n",
       "      <td>0.133299</td>\n",
       "      <td>0.156110</td>\n",
       "      <td>0.211176</td>\n",
       "    </tr>\n",
       "  </tbody>\n",
       "</table>\n",
       "</div>"
      ],
      "text/plain": [
       "            count           mean           std            min            25%  \\\n",
       "id       100000.0  249999.500000  28867.657797  200000.000000  224999.750000   \n",
       "Class_1  100000.0       0.044979      0.012036       0.001416       0.039437   \n",
       "Class_2  100000.0       0.121698      0.112299       0.000838       0.040797   \n",
       "Class_3  100000.0       0.073653      0.048035       0.000387       0.034556   \n",
       "Class_4  100000.0       0.023456      0.008020       0.000603       0.017926   \n",
       "Class_5  100000.0       0.015019      0.004973       0.000289       0.012125   \n",
       "Class_6  100000.0       0.259358      0.163943       0.004277       0.157469   \n",
       "Class_7  100000.0       0.074209      0.026934       0.001602       0.056377   \n",
       "Class_8  100000.0       0.260179      0.118313       0.009315       0.168812   \n",
       "Class_9  100000.0       0.127451      0.037191       0.002180       0.105715   \n",
       "\n",
       "                   50%            75%            max  \n",
       "id       249999.500000  274999.250000  299999.000000  \n",
       "Class_1       0.045593       0.051202       0.108009  \n",
       "Class_2       0.079348       0.164806       0.539838  \n",
       "Class_3       0.061430       0.107342       0.243158  \n",
       "Class_4       0.024560       0.029539       0.066554  \n",
       "Class_5       0.015163       0.018090       0.046656  \n",
       "Class_6       0.243782       0.310066       0.981633  \n",
       "Class_7       0.078909       0.094819       0.146041  \n",
       "Class_8       0.268047       0.352425       0.666928  \n",
       "Class_9       0.133299       0.156110       0.211176  "
      ]
     },
     "metadata": {},
     "output_type": "display_data"
    }
   ],
   "source": [
    "display(sub_imp, sub_imp.describe().transpose())"
   ]
  },
  {
   "cell_type": "code",
   "execution_count": 17,
   "id": "affiliated-empire",
   "metadata": {
    "execution": {
     "iopub.execute_input": "2021-06-16T13:06:18.066248Z",
     "iopub.status.busy": "2021-06-16T13:06:18.065533Z",
     "iopub.status.idle": "2021-06-16T13:06:20.668251Z",
     "shell.execute_reply": "2021-06-16T13:06:20.667678Z",
     "shell.execute_reply.started": "2021-06-16T13:04:49.326455Z"
    },
    "papermill": {
     "duration": 2.633235,
     "end_time": "2021-06-16T13:06:20.668386",
     "exception": false,
     "start_time": "2021-06-16T13:06:18.035151",
     "status": "completed"
    },
    "tags": []
   },
   "outputs": [
    {
     "name": "stdout",
     "output_type": "stream",
     "text": [
      "__notebook__.ipynb  submission_ens.csv\tsubmission_imp.csv\n"
     ]
    }
   ],
   "source": [
    "sub_imp.to_csv(\"submission_imp.csv\",index=False)\n",
    "# Public Score: 1.74408\n",
    "!ls"
   ]
  },
  {
   "cell_type": "markdown",
   "id": "integral-discretion",
   "metadata": {
    "papermill": {
     "duration": 0.023935,
     "end_time": "2021-06-16T13:06:20.718205",
     "exception": false,
     "start_time": "2021-06-16T13:06:20.694270",
     "status": "completed"
    },
    "tags": []
   },
   "source": [
    "<div class=\"alert alert-success\">\n",
    "    <h1 align=\"center\">If you find this work useful, please don't forget upvoting :)</h1>\n",
    "</div>"
   ]
  }
 ],
 "metadata": {
  "kernelspec": {
   "display_name": "Python 3",
   "language": "python",
   "name": "python3"
  },
  "language_info": {
   "codemirror_mode": {
    "name": "ipython",
    "version": 3
   },
   "file_extension": ".py",
   "mimetype": "text/x-python",
   "name": "python",
   "nbconvert_exporter": "python",
   "pygments_lexer": "ipython3",
   "version": "3.8.6"
  },
  "papermill": {
   "default_parameters": {},
   "duration": 34.66998,
   "end_time": "2021-06-16T13:06:21.454384",
   "environment_variables": {},
   "exception": null,
   "input_path": "__notebook__.ipynb",
   "output_path": "__notebook__.ipynb",
   "parameters": {},
   "start_time": "2021-06-16T13:05:46.784404",
   "version": "2.3.3"
  }
 },
 "nbformat": 4,
 "nbformat_minor": 5
}
